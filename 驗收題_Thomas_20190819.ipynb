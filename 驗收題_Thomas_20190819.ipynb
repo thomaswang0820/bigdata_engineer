{
 "cells": [
  {
   "cell_type": "code",
   "execution_count": 7,
   "metadata": {},
   "outputs": [],
   "source": [
    "# 驗收1_1\n",
    "# 設計一個函數，可以輸入2個資料型別為數值的參數，並把2個數值相加後\n",
    "# 印出\"相加後的數值為 oo\"\n",
    "# 並回傳相加後的數值結果 oo (回傳的數值型態需為float) \n",
    "# 答案如下\n",
    "\n",
    "def exam1_1(a, b):\n",
    "    \"\"\"函數用於相加2個數值，a、b皆為數值\"\"\"\n",
    "    \n",
    "    total = float(a + b)\n",
    "    print(\"相加後的數值為\",total)\n",
    "    return total"
   ]
  },
  {
   "cell_type": "code",
   "execution_count": 8,
   "metadata": {},
   "outputs": [
    {
     "name": "stdout",
     "output_type": "stream",
     "text": [
      "相加後的數值為 4.0\n",
      "Help on function exam1_1 in module __main__:\n",
      "\n",
      "exam1_1(a, b)\n",
      "    函數用於相加2個數值，a、b皆為數值\n",
      "\n"
     ]
    }
   ],
   "source": [
    "exam1_1(1, 3)\n",
    "help(exam1_1)"
   ]
  },
  {
   "cell_type": "code",
   "execution_count": 9,
   "metadata": {},
   "outputs": [],
   "source": [
    "# 驗收1_2\n",
    "# 承驗收1_1\n",
    "# 使用try except，設定如果發生型別錯誤 \n",
    "# 則印出 請輸入2個數值型別的資料\n",
    "# 答案如下\n",
    "\n",
    "def exam1_2(a, b):\n",
    "    \"\"\"函數用於相加2個數值，a、b皆為數值\"\"\"   \n",
    "    try:\n",
    "        total = float(a + b)\n",
    "        print(\"相加後的數值為\", total)\n",
    "        return total\n",
    "    except TypeError:\n",
    "        print(\"請輸入2個數值型別的資料\")\n"
   ]
  },
  {
   "cell_type": "code",
   "execution_count": 10,
   "metadata": {},
   "outputs": [
    {
     "name": "stdout",
     "output_type": "stream",
     "text": [
      "相加後的數值為 5.0\n"
     ]
    },
    {
     "data": {
      "text/plain": [
       "5.0"
      ]
     },
     "execution_count": 10,
     "metadata": {},
     "output_type": "execute_result"
    }
   ],
   "source": [
    "exam1_2(2, 3)"
   ]
  },
  {
   "cell_type": "code",
   "execution_count": 13,
   "metadata": {},
   "outputs": [
    {
     "name": "stdout",
     "output_type": "stream",
     "text": [
      "請輸入2個數值型別的資料\n",
      "Help on function exam1_2 in module __main__:\n",
      "\n",
      "exam1_2(a, b)\n",
      "    函數用於相加2個數值，a、b皆為數值\n",
      "\n"
     ]
    }
   ],
   "source": [
    "exam1_2(\"2\", 3)\n",
    "help(exam1_2)"
   ]
  },
  {
   "cell_type": "code",
   "execution_count": 13,
   "metadata": {},
   "outputs": [],
   "source": [
    "# 驗收1_3\n",
    "# 承驗收1_2\n",
    "# 使用if 和 raise 設定，只要輸入資料型別不是數值int or float \n",
    "# 則使用raise發起typeerror\n",
    "# 答案如下\n",
    "\n",
    "def exam1_3(a, b):\n",
    "    \"\"\"函數用於相加2個數值，a、b皆為數值\"\"\"\n",
    "    try:\n",
    "        if (type(a) != int and type(a) != float) or (type(b) != int and type(b) != float):\n",
    "            raise TypeError\n",
    "        else:\n",
    "            total = float(a + b)\n",
    "            print(\"相加後的數值為\", total)\n",
    "            return total\n",
    "    except TypeError:\n",
    "        print(\"請輸入2個數值型別的資料\")"
   ]
  },
  {
   "cell_type": "code",
   "execution_count": 14,
   "metadata": {},
   "outputs": [
    {
     "name": "stdout",
     "output_type": "stream",
     "text": [
      "相加後的數值為 5.0\n"
     ]
    },
    {
     "data": {
      "text/plain": [
       "5.0"
      ]
     },
     "execution_count": 14,
     "metadata": {},
     "output_type": "execute_result"
    }
   ],
   "source": [
    "exam1_3(2, 3.0)"
   ]
  },
  {
   "cell_type": "code",
   "execution_count": 15,
   "metadata": {},
   "outputs": [
    {
     "name": "stdout",
     "output_type": "stream",
     "text": [
      "請輸入2個數值型別的資料\n"
     ]
    }
   ],
   "source": [
    "exam1_3([\"2\"], 3)"
   ]
  },
  {
   "cell_type": "code",
   "execution_count": 16,
   "metadata": {},
   "outputs": [
    {
     "name": "stdout",
     "output_type": "stream",
     "text": [
      "請輸入2個數值型別的資料\n"
     ]
    }
   ],
   "source": [
    "exam1_3(2, \"3\")"
   ]
  },
  {
   "cell_type": "code",
   "execution_count": 50,
   "metadata": {},
   "outputs": [],
   "source": [
    "#驗收2_1\n",
    "# 設計一個函數，可以輸入一個資料型別為list的參數\n",
    "# 且限制list長度為4\n",
    "# list的第一位為姓名(資料型別:字串)、第二位年齡(資料型別: 數值)、第三位工作職稱(資料型 別: 字串)、第四位為工作年資(資料型別: 數值)\n",
    "# 使用for迴圈分四行印出: \n",
    "# 你的name為: xxx\n",
    "# 你的age為: oo\n",
    "# 你的work為: xxx\n",
    "# 你的work_ex為: oo\n",
    "# 且回傳資料dict {'name':'xxx', 'age': oo, 'work': 'xxx', 'work_ex': oo} \n",
    "# 答案如下\n",
    "\n",
    "def exam2_1(x):\n",
    "    keys = [\"name\", \"age\", \"work_title\", \"work_years\"]\n",
    "    return_data = {}\n",
    "    \n",
    "    for i, data in enumerate(x):\n",
    "        print(\"你的{0}為: {1}\".format(keys[i], data))\n",
    "        return_data[keys[i]] = data\n",
    "    return return_data\n",
    "\n",
    "        "
   ]
  },
  {
   "cell_type": "code",
   "execution_count": 51,
   "metadata": {},
   "outputs": [
    {
     "name": "stdout",
     "output_type": "stream",
     "text": [
      "你的name為: Elsa\n",
      "你的age為: 28\n",
      "你的work_title為: 資訊業\n",
      "你的work_years為: 6\n"
     ]
    },
    {
     "data": {
      "text/plain": [
       "{'name': 'Elsa', 'age': 28, 'work_title': '資訊業', 'work_years': 6}"
      ]
     },
     "execution_count": 51,
     "metadata": {},
     "output_type": "execute_result"
    }
   ],
   "source": [
    "exam2_1([\"Elsa\", 28,\"資訊業\", 6])"
   ]
  },
  {
   "cell_type": "code",
   "execution_count": 9,
   "metadata": {},
   "outputs": [],
   "source": [
    "#驗收2_2\n",
    "#承驗收2_1\n",
    "#使用raise設置\n",
    "#如果輸入的資料不為list則發起TypeError，並告訴使用者有東西出錯了，請檢查輸入的資料是否為list\n",
    "#如果輸入的list不為4個欄位，則發起IndexError，並告訴使用者有東西出錯了，請檢查輸入的list是否為4個欄位\n",
    "#答案如下\n",
    "\n",
    "def exam2_2(x):\n",
    "    if type(x) != list:\n",
    "        raise TypeError(\"有東西出錯了，請檢查輸入的資料是否為list\")\n",
    "    elif len(x) != 4:\n",
    "        raise IndexError(\"有東西出錯了，請檢查輸入的list是否為4個欄位\")\n",
    "    else:\n",
    "        \n",
    "        keys = [\"name\", \"age\", \"work_title\", \"work_years\"]\n",
    "        return_data = {}\n",
    "    \n",
    "        for i, data in enumerate(x):\n",
    "            print(\"你的{0}為: {1}\".format(keys[i], data))\n",
    "            return_data[keys[i]] = data\n",
    "        return return_data\n"
   ]
  },
  {
   "cell_type": "code",
   "execution_count": 10,
   "metadata": {},
   "outputs": [
    {
     "ename": "TypeError",
     "evalue": "有東西出錯了，請檢查輸入的資料是否為list",
     "output_type": "error",
     "traceback": [
      "\u001b[0;31m---------------------------------------------------------------------------\u001b[0m",
      "\u001b[0;31mTypeError\u001b[0m                                 Traceback (most recent call last)",
      "\u001b[0;32m<ipython-input-10-2e6d007c3e09>\u001b[0m in \u001b[0;36m<module>\u001b[0;34m\u001b[0m\n\u001b[0;32m----> 1\u001b[0;31m \u001b[0mexam2_2\u001b[0m\u001b[0;34m(\u001b[0m\u001b[0;34m{\u001b[0m\u001b[0;36m2\u001b[0m\u001b[0;34m,\u001b[0m \u001b[0;36m3\u001b[0m\u001b[0;34m,\u001b[0m \u001b[0;36m4\u001b[0m\u001b[0;34m}\u001b[0m\u001b[0;34m)\u001b[0m\u001b[0;34m\u001b[0m\u001b[0;34m\u001b[0m\u001b[0m\n\u001b[0m",
      "\u001b[0;32m<ipython-input-9-82f58718b253>\u001b[0m in \u001b[0;36mexam2_2\u001b[0;34m(x)\u001b[0m\n\u001b[1;32m      8\u001b[0m \u001b[0;32mdef\u001b[0m \u001b[0mexam2_2\u001b[0m\u001b[0;34m(\u001b[0m\u001b[0mx\u001b[0m\u001b[0;34m)\u001b[0m\u001b[0;34m:\u001b[0m\u001b[0;34m\u001b[0m\u001b[0;34m\u001b[0m\u001b[0m\n\u001b[1;32m      9\u001b[0m     \u001b[0;32mif\u001b[0m \u001b[0mtype\u001b[0m\u001b[0;34m(\u001b[0m\u001b[0mx\u001b[0m\u001b[0;34m)\u001b[0m \u001b[0;34m!=\u001b[0m \u001b[0mlist\u001b[0m\u001b[0;34m:\u001b[0m\u001b[0;34m\u001b[0m\u001b[0;34m\u001b[0m\u001b[0m\n\u001b[0;32m---> 10\u001b[0;31m         \u001b[0;32mraise\u001b[0m \u001b[0mTypeError\u001b[0m\u001b[0;34m(\u001b[0m\u001b[0;34m\"有東西出錯了，請檢查輸入的資料是否為list\"\u001b[0m\u001b[0;34m)\u001b[0m\u001b[0;34m\u001b[0m\u001b[0;34m\u001b[0m\u001b[0m\n\u001b[0m\u001b[1;32m     11\u001b[0m     \u001b[0;32melif\u001b[0m \u001b[0mlen\u001b[0m\u001b[0;34m(\u001b[0m\u001b[0mx\u001b[0m\u001b[0;34m)\u001b[0m \u001b[0;34m!=\u001b[0m \u001b[0;36m4\u001b[0m\u001b[0;34m:\u001b[0m\u001b[0;34m\u001b[0m\u001b[0;34m\u001b[0m\u001b[0m\n\u001b[1;32m     12\u001b[0m         \u001b[0;32mraise\u001b[0m \u001b[0mIndexError\u001b[0m\u001b[0;34m(\u001b[0m\u001b[0;34m\"有東西出錯了，請檢查輸入的list是否為4個欄位\"\u001b[0m\u001b[0;34m)\u001b[0m\u001b[0;34m\u001b[0m\u001b[0;34m\u001b[0m\u001b[0m\n",
      "\u001b[0;31mTypeError\u001b[0m: 有東西出錯了，請檢查輸入的資料是否為list"
     ]
    }
   ],
   "source": [
    "exam2_2({2, 3, 4})"
   ]
  },
  {
   "cell_type": "code",
   "execution_count": 11,
   "metadata": {},
   "outputs": [
    {
     "ename": "IndexError",
     "evalue": "有東西出錯了，請檢查輸入的list是否為4個欄位",
     "output_type": "error",
     "traceback": [
      "\u001b[0;31m---------------------------------------------------------------------------\u001b[0m",
      "\u001b[0;31mIndexError\u001b[0m                                Traceback (most recent call last)",
      "\u001b[0;32m<ipython-input-11-0c61708143d8>\u001b[0m in \u001b[0;36m<module>\u001b[0;34m\u001b[0m\n\u001b[0;32m----> 1\u001b[0;31m \u001b[0mexam2_2\u001b[0m\u001b[0;34m(\u001b[0m\u001b[0;34m[\u001b[0m\u001b[0;36m2\u001b[0m\u001b[0;34m,\u001b[0m \u001b[0;36m3\u001b[0m\u001b[0;34m,\u001b[0m \u001b[0;36m4\u001b[0m\u001b[0;34m]\u001b[0m\u001b[0;34m)\u001b[0m\u001b[0;34m\u001b[0m\u001b[0;34m\u001b[0m\u001b[0m\n\u001b[0m",
      "\u001b[0;32m<ipython-input-9-82f58718b253>\u001b[0m in \u001b[0;36mexam2_2\u001b[0;34m(x)\u001b[0m\n\u001b[1;32m     10\u001b[0m         \u001b[0;32mraise\u001b[0m \u001b[0mTypeError\u001b[0m\u001b[0;34m(\u001b[0m\u001b[0;34m\"有東西出錯了，請檢查輸入的資料是否為list\"\u001b[0m\u001b[0;34m)\u001b[0m\u001b[0;34m\u001b[0m\u001b[0;34m\u001b[0m\u001b[0m\n\u001b[1;32m     11\u001b[0m     \u001b[0;32melif\u001b[0m \u001b[0mlen\u001b[0m\u001b[0;34m(\u001b[0m\u001b[0mx\u001b[0m\u001b[0;34m)\u001b[0m \u001b[0;34m!=\u001b[0m \u001b[0;36m4\u001b[0m\u001b[0;34m:\u001b[0m\u001b[0;34m\u001b[0m\u001b[0;34m\u001b[0m\u001b[0m\n\u001b[0;32m---> 12\u001b[0;31m         \u001b[0;32mraise\u001b[0m \u001b[0mIndexError\u001b[0m\u001b[0;34m(\u001b[0m\u001b[0;34m\"有東西出錯了，請檢查輸入的list是否為4個欄位\"\u001b[0m\u001b[0;34m)\u001b[0m\u001b[0;34m\u001b[0m\u001b[0;34m\u001b[0m\u001b[0m\n\u001b[0m\u001b[1;32m     13\u001b[0m     \u001b[0;32melse\u001b[0m\u001b[0;34m:\u001b[0m\u001b[0;34m\u001b[0m\u001b[0;34m\u001b[0m\u001b[0m\n\u001b[1;32m     14\u001b[0m \u001b[0;34m\u001b[0m\u001b[0m\n",
      "\u001b[0;31mIndexError\u001b[0m: 有東西出錯了，請檢查輸入的list是否為4個欄位"
     ]
    }
   ],
   "source": [
    "exam2_2([2, 3, 4])"
   ]
  },
  {
   "cell_type": "code",
   "execution_count": 12,
   "metadata": {},
   "outputs": [
    {
     "name": "stdout",
     "output_type": "stream",
     "text": [
      "你的name為: Elsa\n",
      "你的age為: 28\n",
      "你的work_title為: 資訊業\n",
      "你的work_years為: 6\n"
     ]
    },
    {
     "data": {
      "text/plain": [
       "{'name': 'Elsa', 'age': 28, 'work_title': '資訊業', 'work_years': 6}"
      ]
     },
     "execution_count": 12,
     "metadata": {},
     "output_type": "execute_result"
    }
   ],
   "source": [
    "exam2_2([\"Elsa\", 28,\"資訊業\", 6])"
   ]
  },
  {
   "cell_type": "code",
   "execution_count": 13,
   "metadata": {},
   "outputs": [],
   "source": [
    "#驗收2_3\n",
    "#承驗收2_2\n",
    "#使用raise設置 \n",
    "#如果輸入的list內容型別不為[str,int,str,int]\n",
    "#則發起錯誤告知使用者有東西出錯了，請檢查輸入list的內容型別是否為[字串,整數,字串,整數]\n",
    "#答案如下\n",
    "\n",
    "def exam2_3(x):\n",
    "    if type(x) != list:\n",
    "        raise TypeError(\"有東西出錯了，請檢查輸入的資料是否為list\")\n",
    "    elif len(x) != 4:\n",
    "        raise IndexError(\"有東西出錯了，請檢查輸入的list是否為4個欄位\")\n",
    "    else:\n",
    "        type_x = []\n",
    "        for i in x:\n",
    "            type_x.append(type(i))\n",
    "        \n",
    "        if type_x == [str, int, str, int]:\n",
    "            keys = [\"name\", \"age\", \"work_title\", \"work_years\"]\n",
    "            return_data = {}\n",
    "    \n",
    "            for i, data in enumerate(x):\n",
    "                print(\"你的{0}為: {1}\".format(keys[i], data))\n",
    "                return_data[keys[i]] = data\n",
    "            return return_data\n",
    "        else:\n",
    "            raise TypeError(\"有東西出錯了，請檢查輸入list的內容型別是否為[字串,整數,字串,整數]\")\n",
    "            "
   ]
  },
  {
   "cell_type": "code",
   "execution_count": 14,
   "metadata": {},
   "outputs": [
    {
     "ename": "TypeError",
     "evalue": "有東西出錯了，請檢查輸入list的內容型別是否為[字串,整數,字串,整數]",
     "output_type": "error",
     "traceback": [
      "\u001b[0;31m---------------------------------------------------------------------------\u001b[0m",
      "\u001b[0;31mTypeError\u001b[0m                                 Traceback (most recent call last)",
      "\u001b[0;32m<ipython-input-14-5479db727734>\u001b[0m in \u001b[0;36m<module>\u001b[0;34m\u001b[0m\n\u001b[0;32m----> 1\u001b[0;31m \u001b[0mexam2_3\u001b[0m\u001b[0;34m(\u001b[0m\u001b[0;34m[\u001b[0m\u001b[0;36m2\u001b[0m\u001b[0;34m,\u001b[0m\u001b[0;36m3\u001b[0m\u001b[0;34m,\u001b[0m\u001b[0;36m4\u001b[0m\u001b[0;34m,\u001b[0m\u001b[0;36m5\u001b[0m\u001b[0;34m]\u001b[0m\u001b[0;34m)\u001b[0m\u001b[0;34m\u001b[0m\u001b[0;34m\u001b[0m\u001b[0m\n\u001b[0m",
      "\u001b[0;32m<ipython-input-13-4037bb35652f>\u001b[0m in \u001b[0;36mexam2_3\u001b[0;34m(x)\u001b[0m\n\u001b[1;32m     25\u001b[0m             \u001b[0;32mreturn\u001b[0m \u001b[0mreturn_data\u001b[0m\u001b[0;34m\u001b[0m\u001b[0;34m\u001b[0m\u001b[0m\n\u001b[1;32m     26\u001b[0m         \u001b[0;32melse\u001b[0m\u001b[0;34m:\u001b[0m\u001b[0;34m\u001b[0m\u001b[0;34m\u001b[0m\u001b[0m\n\u001b[0;32m---> 27\u001b[0;31m             \u001b[0;32mraise\u001b[0m \u001b[0mTypeError\u001b[0m\u001b[0;34m(\u001b[0m\u001b[0;34m\"有東西出錯了，請檢查輸入list的內容型別是否為[字串,整數,字串,整數]\"\u001b[0m\u001b[0;34m)\u001b[0m\u001b[0;34m\u001b[0m\u001b[0;34m\u001b[0m\u001b[0m\n\u001b[0m\u001b[1;32m     28\u001b[0m \u001b[0;34m\u001b[0m\u001b[0m\n",
      "\u001b[0;31mTypeError\u001b[0m: 有東西出錯了，請檢查輸入list的內容型別是否為[字串,整數,字串,整數]"
     ]
    }
   ],
   "source": [
    "exam2_3([2,3,4,5])"
   ]
  },
  {
   "cell_type": "code",
   "execution_count": 15,
   "metadata": {},
   "outputs": [
    {
     "name": "stdout",
     "output_type": "stream",
     "text": [
      "你的name為: Elsa\n",
      "你的age為: 28\n",
      "你的work_title為: 資訊業\n",
      "你的work_years為: 6\n"
     ]
    },
    {
     "data": {
      "text/plain": [
       "{'name': 'Elsa', 'age': 28, 'work_title': '資訊業', 'work_years': 6}"
      ]
     },
     "execution_count": 15,
     "metadata": {},
     "output_type": "execute_result"
    }
   ],
   "source": [
    "exam2_3([\"Elsa\", 28,\"資訊業\", 6])"
   ]
  },
  {
   "cell_type": "code",
   "execution_count": 2,
   "metadata": {},
   "outputs": [
    {
     "name": "stdout",
     "output_type": "stream",
     "text": [
      "\n",
      "驗收3-1 ======================================\n",
      "\n",
      "學生anne的key有:['name', 'age', 'class']\n",
      "學生gino的key有:['name', 'age', 'class']\n",
      "學生jj的key有:['name', 'class']\n",
      "學生kaye的key有:['name', 'age', 'class']\n",
      "學生ke的key有:['name', 'age', 'class']\n",
      "學生sam的key有:['name', 'age', 'class']\n",
      "學生miko的key有:['name', 'age', 'class']\n",
      "學生s的key有:['name', 'age', 'class']\n",
      "學生大s的key有:['name', 'age', 'class']\n",
      "學生frank的key有:['name', 'age', 'class']\n",
      "\n",
      "驗收3-2 ======================================\n",
      "\n",
      "學生anne年齡為:20\n",
      "學生gino年齡為:30\n",
      "學生kaye年齡為:42\n",
      "學生ke年齡為:40\n",
      "學生sam年齡為:33\n",
      "學生miko年齡為:20\n",
      "學生s年齡為:33\n",
      "學生大s年齡為:33\n",
      "學生frank年齡為:None\n",
      "[{'name': 'anne', 'age': 20, 'class': 'A'}, {'name': 'gino', 'age': 30, 'class': 'A'}, {'name': 'kaye', 'age': 42, 'class': 'B'}, {'name': 'ke', 'age': 40, 'class': 'B'}, {'name': 'sam', 'age': 33, 'class': 'B'}, {'name': 'miko', 'age': 20, 'class': 'C'}, {'name': 's', 'age': 33, 'class': 'C'}, {'name': '大s', 'age': 33, 'class': 'C'}, {'name': 'frank', 'age': None, 'class': 'C'}]\n",
      "\n",
      "驗收3-3 ======================================\n",
      "\n",
      "學生anne年齡為:20\n",
      "學生gino年齡為:30\n",
      "學生kaye年齡為:42\n",
      "學生ke年齡為:40\n",
      "學生sam年齡為:33\n",
      "學生miko年齡為:20\n",
      "學生s年齡為:33\n",
      "學生大s年齡為:33\n",
      "\n",
      "驗收3-4 ======================================\n",
      "\n",
      "年齡為20歲的有['anne', 'miko']\n",
      "年齡為33歲的有['sam', 's', '大s']\n",
      "\n",
      "驗收3-5 ======================================\n",
      "\n",
      "總共有 3 班\n",
      "A 班學生有: 3 人\n",
      "B 班學生有: 3 人\n",
      "C 班學生有: 4 人\n"
     ]
    }
   ],
   "source": [
    "#驗收3\n",
    "q3_data = [\n",
    "    {'name':'anne','age':20,'class':'A'},\n",
    "    {'name':'gino','age':30,'class':'A'},\n",
    "    {'name':'jj','class':'A'},\n",
    "    {'name':'kaye','age':42,'class':'B'},\n",
    "    {'name':'ke','age':'40','class':'B'},\n",
    "    {'name':'sam','age':33,'class':'B'},\n",
    "    {'name':'miko','age':26,'class':'C'},\n",
    "    {'name':'s','age':33,'class':'C'},\n",
    "    {'name':'大s','age':33,'class':'C'},\n",
    "    {'name':'frank','age':'kokoko','class':'C'},\n",
    "]\n",
    "\n",
    "#1.請印出q3_data裡每一位學生的key\n",
    "print(\"\")\n",
    "print(\"驗收3-1 ======================================\")\n",
    "print(\"\")\n",
    "\n",
    "for student in q3_data:\n",
    "    print(\"學生{}的key有:{}\".format(student['name'], list(student.keys())))\n",
    "\n",
    "#2.請寫出一支程式檢查每位學生是否都有age，如果沒有則跳過此學生\n",
    "#檢查每位學生的age是否都是數值，如果不是則試轉為整數(if)，如不能轉為整數則替代成None(try except)\n",
    "#且把修改結果指派給新變數new_q3_data，並印出new_q3_data\n",
    "print(\"\")\n",
    "print(\"驗收3-2 ======================================\")\n",
    "print(\"\")\n",
    "\n",
    "new_q3_data = []\n",
    "for student in q3_data:\n",
    "    try:\n",
    "        if type(student['age']) != int:\n",
    "            try:\n",
    "                student['age'] = int(student['age'])\n",
    "            except:\n",
    "                student['age'] = None\n",
    "        print(\"學生{}年齡為:{}\" .format(student['name'], student['age']))\n",
    "    except:\n",
    "        continue \n",
    "    new_q3_data.append(student)\n",
    "\n",
    "print(new_q3_data)\n",
    "        \n",
    "        \n",
    "#3.請印出\n",
    "#學生xxx的age為:xxx\n",
    "#且如果發生錯誤，則跳過該項資料繼續執行\n",
    "#如果不是數值則試轉為整數，如不能轉為整數則跳過該項資料繼續執行\n",
    "print(\"\")\n",
    "print(\"驗收3-3 ======================================\")\n",
    "print(\"\")\n",
    "\n",
    "for student in q3_data:\n",
    "    try:\n",
    "        if type(student['age']) != int:\n",
    "            try:\n",
    "                student['age'] = int(student['age'])\n",
    "            except:\n",
    "                continue\n",
    "    except:\n",
    "        continue\n",
    "    print(\"學生{}年齡為:{}\" .format(student['name'], student['age']))\n",
    "        \n",
    "#4.請寫出一支程式找出誰的年齡相等\n",
    "print(\"\")\n",
    "print(\"驗收3-4 ======================================\")\n",
    "print(\"\")\n",
    "\n",
    "age_list = []\n",
    "for x in new_q3_data:\n",
    "    age_list.append(x['age'])\n",
    "\n",
    "# age_group = {}\n",
    "# for y in age_list:\n",
    "#     age_group[y] = age_list.count(y)\n",
    "\n",
    "same_age = []\n",
    "for y in age_list:\n",
    "    if age_list.count(y) > 1 and y not in same_age:\n",
    "        same_age.append(y)\n",
    "        same_name = []\n",
    "        for t in new_q3_data:\n",
    "            if t['age'] == y:\n",
    "                same_name.append(t['name'])\n",
    "        print(\"年齡為{}歲的有{}\".format(y, same_name))\n",
    "\n",
    "#     for z in age_group:\n",
    "#         same_name = []\n",
    "#         if age_group[z] > 1:\n",
    "#             for t in new_q3_data:\n",
    "#                 if t['age'] == z:\n",
    "#                     same_name.append(t['name'])\n",
    "#             print(\"年齡為{}歲的有{}\".format(z, same_name))\n",
    "    \n",
    "#5.請寫出一支程式判斷共有幾班且每班有幾人\n",
    "print(\"\")\n",
    "print(\"驗收3-5 ======================================\")\n",
    "print(\"\")\n",
    "\n",
    "class_num = []\n",
    "for student in q3_data:\n",
    "    for key, data in student.items():\n",
    "        if key == 'class':\n",
    "            class_num.append(data)\n",
    "print(\"總共有 {} 班\".format(len(set(class_num))))\n",
    "\n",
    "class_student = {}\n",
    "for n in class_num:\n",
    "    class_student[n] = class_num.count(n)\n",
    "\n",
    "for x in class_student.keys(): \n",
    "    print(x,\"班學生有:\",class_student[x], \"人\")\n",
    "\n",
    "\n",
    "\n",
    "\n"
   ]
  },
  {
   "cell_type": "code",
   "execution_count": null,
   "metadata": {},
   "outputs": [],
   "source": []
  }
 ],
 "metadata": {
  "kernelspec": {
   "display_name": "Python 3",
   "language": "python",
   "name": "python3"
  },
  "language_info": {
   "codemirror_mode": {
    "name": "ipython",
    "version": 3
   },
   "file_extension": ".py",
   "mimetype": "text/x-python",
   "name": "python",
   "nbconvert_exporter": "python",
   "pygments_lexer": "ipython3",
   "version": "3.7.3"
  }
 },
 "nbformat": 4,
 "nbformat_minor": 2
}
