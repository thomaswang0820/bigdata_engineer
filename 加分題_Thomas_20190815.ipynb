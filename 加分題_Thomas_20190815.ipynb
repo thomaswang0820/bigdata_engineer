{
 "cells": [
  {
   "cell_type": "code",
   "execution_count": 30,
   "metadata": {},
   "outputs": [
    {
     "name": "stdout",
     "output_type": "stream",
     "text": [
      "玩具屋\n",
      "請輸入遙控車的價錢:100\n",
      "請輸入風箏的價錢:200\n",
      "請輸入芭比娃娃的價錢:300\n",
      "請輸入娃娃屋的價錢:400\n",
      "請輸入腳踏車的價錢:500\n",
      "{'遙控車': 100, '風箏': 200, '芭比娃娃': 300, '娃娃屋': 400, '腳踏車': 500}\n"
     ]
    }
   ],
   "source": [
    "#加分題\n",
    "#加入try except\n",
    "#加入continue\n",
    "#加入for迴圈\n",
    "#加入dict取值或生成資料dict\n",
    "#自訂函數def\n",
    "\n",
    "\n",
    "#建立商品價格資料庫\n",
    "\n",
    "print(\"玩具屋\")\n",
    "products = [\"遙控車\",\"風箏\",\"芭比娃娃\",\"娃娃屋\",\"腳踏車\"]\n",
    "product_price = {}\n",
    "\n",
    "def stock_dict(products):    \n",
    "    for name in products:\n",
    "        price = int(input(\"請輸入{}的價錢:\".format(name)))\n",
    "        product_price[name] = price\n",
    "    return product_price\n",
    "\n",
    "print(stock_dict(products))"
   ]
  },
  {
   "cell_type": "code",
   "execution_count": 33,
   "metadata": {},
   "outputs": [
    {
     "name": "stdout",
     "output_type": "stream",
     "text": [
      "請輸入購買商品，退出請輸入q或Q：aaa\n",
      "請輸入購買商品，退出請輸入q或Q：bbb\n",
      "請輸入購買商品，退出請輸入q或Q：ccc\n",
      "輸入錯誤已達三次，謝謝光臨\n"
     ]
    }
   ],
   "source": [
    "#輸入購買商品並顯示商品價格\n",
    "\n",
    "for i in range(4):\n",
    "    if i < 3:\n",
    "        buy = input(\"請輸入購買商品，退出請輸入q或Q：\") \n",
    "\n",
    "        try:\n",
    "            if buy in product_price:\n",
    "                print(\"購買了: {}, 價格為: {}元\".format(buy, product_price[buy])) \n",
    "                break\n",
    "            elif buy == 'q' or buy == 'Q':\n",
    "                print(\"謝謝光臨\")\n",
    "                break\n",
    "        except:\n",
    "            print(\"輸入錯誤，請重新輸入\")\n",
    "            continue\n",
    "    else:\n",
    "        print(\"輸入錯誤已達三次，謝謝光臨\")\n",
    "        break\n",
    "              "
   ]
  },
  {
   "cell_type": "code",
   "execution_count": null,
   "metadata": {},
   "outputs": [],
   "source": []
  }
 ],
 "metadata": {
  "kernelspec": {
   "display_name": "Python 3",
   "language": "python",
   "name": "python3"
  },
  "language_info": {
   "codemirror_mode": {
    "name": "ipython",
    "version": 3
   },
   "file_extension": ".py",
   "mimetype": "text/x-python",
   "name": "python",
   "nbconvert_exporter": "python",
   "pygments_lexer": "ipython3",
   "version": "3.7.3"
  }
 },
 "nbformat": 4,
 "nbformat_minor": 2
}
